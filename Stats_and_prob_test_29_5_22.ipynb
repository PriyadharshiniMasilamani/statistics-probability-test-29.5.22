{
  "nbformat": 4,
  "nbformat_minor": 0,
  "metadata": {
    "colab": {
      "name": "Stats and prob test-29.5.22.ipynb",
      "provenance": [],
      "collapsed_sections": []
    },
    "kernelspec": {
      "name": "python3",
      "display_name": "Python 3"
    },
    "language_info": {
      "name": "python"
    }
  },
  "cells": [
    {
      "cell_type": "markdown",
      "source": [
        "# STATISTICS AND PROBABILITY"
      ],
      "metadata": {
        "id": "gemXJYxt7Zaq"
      }
    },
    {
      "cell_type": "markdown",
      "source": [
        " **1.The probability that one card is diamond,one card is heart and one card is spade**\n"
      ],
      "metadata": {
        "id": "UiPiaQG07gwk"
      }
    },
    {
      "cell_type": "markdown",
      "source": [
        "The probability of choosing the diamond,P(diamond)=13/52=0.25"
      ],
      "metadata": {
        "id": "SD2OBH4M7mC3"
      }
    },
    {
      "cell_type": "markdown",
      "source": [
        "without replacement you now have 51 cards left\n",
        "so the probability of choosing the heart,P(heart)=13/51=0.2549"
      ],
      "metadata": {
        "id": "Vw2aanHn7mFP"
      }
    },
    {
      "cell_type": "markdown",
      "source": [
        "without replacement you now have 50 cards left\n",
        "so the probability of choosing the spade,P(spade)=13/50=0.26"
      ],
      "metadata": {
        "id": "ijMbOLaP7mH6"
      }
    },
    {
      "cell_type": "markdown",
      "source": [
        "The probability that one card is diamond,one card is heart and one card is spade=P(diamond)*P(heart)*P(spade)=0.25*0.2549*2.26 = 0.0165685"
      ],
      "metadata": {
        "id": "924ywmWB7mK2"
      }
    },
    {
      "cell_type": "markdown",
      "source": [
        "**1 ANSWER: \n",
        "The probability that one card is diamond,one card is heart and one card is spade = 0.0165685**\n",
        "\n",
        "\n"
      ],
      "metadata": {
        "id": "KGQaM73N7mO_"
      }
    },
    {
      "cell_type": "markdown",
      "source": [
        "**2.a)Favorite movie type is either action or drama movie**"
      ],
      "metadata": {
        "id": "QEsu31qy7mSD"
      }
    },
    {
      "cell_type": "markdown",
      "source": [
        "The probability of action movie =42/100\n",
        "\n",
        "\n",
        "\n"
      ],
      "metadata": {
        "id": "ez5HllII7mVd"
      }
    },
    {
      "cell_type": "markdown",
      "source": [
        "The probability of drama movie =36/100"
      ],
      "metadata": {
        "id": "PSOJ3fz98trV"
      }
    },
    {
      "cell_type": "markdown",
      "source": [
        "The probability of either action or drama=(42/100)+(36/100)=78/100 = 0.78"
      ],
      "metadata": {
        "id": "134igtFo8t55"
      }
    },
    {
      "cell_type": "markdown",
      "source": [
        "**b)Favorite movie type is either comedy or horror movie**"
      ],
      "metadata": {
        "id": "aLIBWA9R7mao"
      }
    },
    {
      "cell_type": "markdown",
      "source": [
        "The probability of comedy movie =54/100"
      ],
      "metadata": {
        "id": "yhorI3Ut7meC"
      }
    },
    {
      "cell_type": "markdown",
      "source": [
        "The probability of horror movie =12/100"
      ],
      "metadata": {
        "id": "CTcvDyeF7oms"
      }
    },
    {
      "cell_type": "markdown",
      "source": [
        "The probability of either commedy or horror=(54/100)+(12/100)=66/100 = 0.66"
      ],
      "metadata": {
        "id": "Crrbb01R7opJ"
      }
    },
    {
      "cell_type": "markdown",
      "source": [
        "**2  ANSWER:\n",
        "a)Favorite movie type is either action or drama movie = 0.78\n",
        "b)Favorite movie type is either comedy or horror movie = 0.66**"
      ],
      "metadata": {
        "id": "Llt2hIza7ori"
      }
    },
    {
      "cell_type": "markdown",
      "source": [
        "**3.A drawn ball is to be observed as black,the probability of bag B to be selected**"
      ],
      "metadata": {
        "id": "kfQ9llfA7ouB"
      }
    },
    {
      "cell_type": "markdown",
      "source": [
        "**A bag**\n",
        "A bag contains red balls=3,\n",
        "A bag contains black balls=5\n",
        "\n",
        "**B bag**\n",
        "B bag contains white balls=4,\n",
        "B bag contains black balls=7\n"
      ],
      "metadata": {
        "id": "NRnbt0C27oxg"
      }
    },
    {
      "cell_type": "markdown",
      "source": [
        "The probability of black balls=P(A)=P(B)=1/2"
      ],
      "metadata": {
        "id": "AxOcmJZ59Lw-"
      }
    },
    {
      "cell_type": "markdown",
      "source": [
        "The probablity of black balls in A bag = P(B/A) = 5/8"
      ],
      "metadata": {
        "id": "cGY4m6t79Lzf"
      }
    },
    {
      "cell_type": "markdown",
      "source": [
        "The probablity of black balls in B bag = P(B/B) = 7/11"
      ],
      "metadata": {
        "id": "ZVzHdoSM9L19"
      }
    },
    {
      "cell_type": "markdown",
      "source": [
        "The probability of drawn ball from B = P(D/B) = ( P(B) * P(B/B) ) / ( P(A) * P(B/A) ) + ( P(B) * P(B/B) )"
      ],
      "metadata": {
        "id": "UTPoilk09L4F"
      }
    },
    {
      "cell_type": "markdown",
      "source": [
        " = ( (1/2) * (7/11) ) / ( 1/2 * 5/8 ) + ( 1/2 * 7/11 )\n",
        "                                              =  0.5045"
      ],
      "metadata": {
        "id": "bcjxVAHM9L6W"
      }
    },
    {
      "cell_type": "markdown",
      "source": [
        "**3 ANSWER:The probability of drawn ball from B = 0.5045**"
      ],
      "metadata": {
        "id": "fdcRuYeP9L9D"
      }
    },
    {
      "cell_type": "markdown",
      "source": [
        "**4. a)Receivinng 10 application in 1 minute**"
      ],
      "metadata": {
        "id": "-vlmUsME9L-6"
      }
    },
    {
      "cell_type": "markdown",
      "source": [
        " λ=450/6\n",
        "        λ=15/2, x=10\n",
        "                 \n",
        "                 e**(-15/2)(15/2)**10\n",
        "        P(X=x) = _________________________\n",
        "                          10!\n",
        "        P(X=10) = 0.0858"
      ],
      "metadata": {
        "id": "8ae1LSrD9MBV"
      }
    },
    {
      "cell_type": "markdown",
      "source": [
        "**b) Receiving atleat 17 applications in 2 minutes**"
      ],
      "metadata": {
        "id": "O9LjKTJI9MDb"
      }
    },
    {
      "cell_type": "markdown",
      "source": [
        "x=17\n",
        "                 \n",
        "\n",
        "> \n",
        "\n",
        "\n",
        "\n",
        "\n",
        "                  e**(-15/2)(15/2)**17\n",
        "        P(X=x) = _________________________\n",
        "                          17!\n",
        "        P(X=17)= 0.6321"
      ],
      "metadata": {
        "id": "V7C1PSmD9MFZ"
      }
    },
    {
      "cell_type": "markdown",
      "source": [
        "**4 ANSWER: a)Receivinng 10 application in 1 minute = 0.0858,  b)Receiving atleat 17 applications in 2 minutes = 0.6321**"
      ],
      "metadata": {
        "id": "J6I3Xds69MHn"
      }
    },
    {
      "cell_type": "markdown",
      "source": [
        "**6.75th percentile of prices among the new home in Manchester**"
      ],
      "metadata": {
        "id": "JRKdqu759MJw"
      }
    },
    {
      "cell_type": "markdown",
      "source": [
        "z=0.675\n",
        "μ=350870\t\n",
        "σ=12405\n",
        "z=(x-μ)/σ"
      ],
      "metadata": {
        "id": "r2VBz_qD9MMA"
      }
    },
    {
      "cell_type": "markdown",
      "source": [
        "\n",
        "0.675=(x-350870)/12405\n"
      ],
      "metadata": {
        "id": "ctfvMK_99MOx"
      }
    },
    {
      "cell_type": "markdown",
      "source": [
        "x=350870+(0.675*12405)\n"
      ],
      "metadata": {
        "id": "QAu1CrXp9MQY"
      }
    },
    {
      "cell_type": "markdown",
      "source": [
        "x=359237.0456"
      ],
      "metadata": {
        "id": "RAfLHw2D9MSn"
      }
    },
    {
      "cell_type": "markdown",
      "source": [
        "**6 ANSWER:75th percentile of prices among the new home in Manchester=359237.0456**"
      ],
      "metadata": {
        "id": "G6sGSOZD9MV7"
      }
    },
    {
      "cell_type": "markdown",
      "source": [
        "**7. Commpute the value of F-Statistics using the relation F=t2**"
      ],
      "metadata": {
        "id": "zDoqU-We_HWd"
      }
    },
    {
      "cell_type": "code",
      "source": [
        "import numpy as np\n",
        "import scipy.stats\n",
        "union_city = [44,21,36,34,77,32,29,39,92,67,45,37]\n",
        "mountain_view = [47,81,41,79,38,20,33,83,41,40,69,36]\n",
        "\n",
        "def f_test(x, y):\n",
        "    x = np.array(x)\n",
        "    y = np.array(y)\n",
        "    f = np.var(x, ddof=1)/np.var(y, ddof=1)\n",
        "    dfn = x.size-1 \n",
        "    dfd = y.size-1 \n",
        "    p = 1-scipy.stats.f.cdf(f, dfn, dfd) \n",
        "    return f, p\n",
        "f,p = f_test(union_city, mountain_view)\n",
        "print('F-statistics:',round(f,5))"
      ],
      "metadata": {
        "colab": {
          "base_uri": "https://localhost:8080/"
        },
        "id": "Fxr0zKJK_S_C",
        "outputId": "c8fa8f78-9eff-42da-903d-978ec1e8cc98"
      },
      "execution_count": 1,
      "outputs": [
        {
          "output_type": "stream",
          "name": "stdout",
          "text": [
            "F-statistics: 0.99212\n"
          ]
        }
      ]
    },
    {
      "cell_type": "markdown",
      "source": [
        "**7 ANSWER:F-statistics: 0.99212**"
      ],
      "metadata": {
        "id": "Wo95ji-I_HY1"
      }
    },
    {
      "cell_type": "markdown",
      "source": [
        "**8. Calculate F-statistics for groups**\n",
        "\n"
      ],
      "metadata": {
        "id": "w3FSBssf_HbD"
      }
    },
    {
      "cell_type": "code",
      "source": [
        "import numpy as np\n",
        "import scipy.stats\n",
        "# group 1, group 2, group 3\n",
        "mean = [44.5,42,46.5]\n",
        "std_dev = [5,5,8]\n",
        "# Sample size is same for all three groups so leave it...\n",
        "def f_test(x, y):\n",
        "    x = np.array(x)\n",
        "    y = np.array(y)\n",
        "    f = np.var(x, ddof=1)/np.var(y, ddof=1)\n",
        "    dfn = x.size-1 \n",
        "    dfd = y.size-1 \n",
        "    p = 1-scipy.stats.f.cdf(f, dfn, dfd) \n",
        "    return f, p\n",
        "\n",
        "f,p = f_test(mean, std_dev)\n",
        "\n",
        "print('F-statistics:',round(f,5))"
      ],
      "metadata": {
        "colab": {
          "base_uri": "https://localhost:8080/"
        },
        "id": "bHLpMYdr_gFW",
        "outputId": "dd7be258-b1f3-43e5-891d-6afe67c3b1af"
      },
      "execution_count": 2,
      "outputs": [
        {
          "output_type": "stream",
          "name": "stdout",
          "text": [
            "F-statistics: 1.69444\n"
          ]
        }
      ]
    },
    {
      "cell_type": "markdown",
      "source": [
        "**8 ANSWER:F-statistics - 1.69444**"
      ],
      "metadata": {
        "id": "lKg75umQ_HeF"
      }
    },
    {
      "cell_type": "markdown",
      "source": [
        "**9.The probability that the number of pizza exceeds 80 in a day**"
      ],
      "metadata": {
        "id": "tp4GAanW_HgE"
      }
    },
    {
      "cell_type": "code",
      "source": [
        "from scipy.stats import poisson\n",
        "poisson_prob=poisson.pmf(k=80,mu=76)\n",
        "print(round(poisson_prob,5))"
      ],
      "metadata": {
        "colab": {
          "base_uri": "https://localhost:8080/"
        },
        "id": "uFCEEGLk_uwF",
        "outputId": "309f9541-1a50-4f7e-8680-1d95168a9839"
      },
      "execution_count": 3,
      "outputs": [
        {
          "output_type": "stream",
          "name": "stdout",
          "text": [
            "0.04018\n"
          ]
        }
      ]
    },
    {
      "cell_type": "markdown",
      "source": [
        "**9 ANSWER:The probability that the number of pizza exceeds 80 in a day:0.04018**"
      ],
      "metadata": {
        "id": "BNGbyFnf_His"
      }
    },
    {
      "cell_type": "markdown",
      "source": [
        "**10.Protein suplliers affect diet or not?**"
      ],
      "metadata": {
        "id": "nIDpvWmx_Hkw"
      }
    },
    {
      "cell_type": "code",
      "source": [
        "before = [82 for j in range(25)]\n",
        "after = [95 for i in range(25)]\n",
        "from scipy.stats import ttest_ind\n",
        "\n",
        "if ttest_ind(before,after)[-1] <= 0.05 :\n",
        "    print('protein supplier affect diet')\n",
        "else:\n",
        "    print('protein supplier did not affect diet')"
      ],
      "metadata": {
        "colab": {
          "base_uri": "https://localhost:8080/"
        },
        "id": "uDHc2wTF_6xz",
        "outputId": "bc42d6d1-2f97-47bc-9c6c-246c4b3a11e7"
      },
      "execution_count": 4,
      "outputs": [
        {
          "output_type": "stream",
          "name": "stdout",
          "text": [
            "protein supplier affect diet\n"
          ]
        }
      ]
    },
    {
      "cell_type": "markdown",
      "source": [
        "**10 ANSWER:Protein supplier affect diet**"
      ],
      "metadata": {
        "id": "QaXdTKv6_HnC"
      }
    },
    {
      "cell_type": "markdown",
      "source": [
        "**11. Test the claim that the different days of the week have same frequency of the customers**"
      ],
      "metadata": {
        "id": "zmyikxvX_Hoz"
      }
    },
    {
      "cell_type": "code",
      "source": [
        "no_of_customers = [1419,1320,1526,1289,1620,2067,2055]\n",
        "avg = sum(no_of_customers)/len(no_of_customers)\n",
        "from scipy.stats import ttest_1samp\n",
        "test = ttest_1samp(no_of_customers,avg)\n",
        "print(test)\n",
        "if test[-1] <= 0.1 :\n",
        "    print('Different days of the week have the same frequency of customers')\n",
        "else:\n",
        "     print('Different days of the week have the different frequency of customers')"
      ],
      "metadata": {
        "colab": {
          "base_uri": "https://localhost:8080/"
        },
        "id": "bjAHGr8wAHrS",
        "outputId": "208c064d-c1a6-4e87-ace8-278c7b814207"
      },
      "execution_count": 5,
      "outputs": [
        {
          "output_type": "stream",
          "name": "stdout",
          "text": [
            "Ttest_1sampResult(statistic=0.0, pvalue=1.0)\n",
            "Different days of the week have the different frequency of customers\n"
          ]
        }
      ]
    },
    {
      "cell_type": "markdown",
      "source": [
        "**11 ANSWER:Different days of the week have the different frequency of customers**"
      ],
      "metadata": {
        "id": "hNBOomST_Hq2"
      }
    },
    {
      "cell_type": "markdown",
      "source": [
        "**12. Is death distribution of current months is same as expert's  prediction**"
      ],
      "metadata": {
        "id": "iz6f1Oai_Hsv"
      }
    },
    {
      "cell_type": "code",
      "source": [
        "import pandas as pd\n",
        "City = [\"New York\", \"New Jersey\", \"Michigan\", \"California\", \"Florida\", \"Massachusetts\", \"Texas\"]\n",
        "No_of_deaths_in_last_month = [3406, 1469, 662, 583, 582, 526, 461]\n",
        "No_of_deaths_in_current_month = [4398, 1846, 1288, 382, 879, 430, 321]\n",
        "df = pd.DataFrame({\"City\": City, \"No_of_deaths_in_last_month\":No_of_deaths_in_last_month, \"No_of_deaths_in_current_month\": No_of_deaths_in_current_month})\n",
        "print(df)\n",
        "print()\n",
        "\n",
        "predicted=[]\n",
        "significance=[]\n",
        "for i in No_of_deaths_in_last_month:\n",
        "    predicted.append((0.30*i)+i)\n",
        "    significance.append(round(0.1*i,1))\n",
        "print(\"predicted by scientist=\",predicted)\n",
        "print(\"actual current death value=\",No_of_deaths_in_current_month)\n",
        "\n",
        "import numpy as np\n",
        "n_predicted=np.array(predicted)\n",
        "n_No_of_deaths_in_current_month=np.array(No_of_deaths_in_current_month)\n",
        "difference=np.absolute(n_No_of_deaths_in_current_month-n_predicted)\n",
        "print(\"difference between predicted and current=\",difference)\n",
        "print(\"signicance of 0.1=\",significance)\n",
        "print()\n",
        "\n",
        "from scipy.stats import ttest_ind\n",
        "print(ttest_ind(No_of_deaths_in_current_month,predicted))\n",
        "print()\n",
        "if (ttest_ind(No_of_deaths_in_current_month,predicted)[-1] <=0.1 ):\n",
        "    print(\"Expert's prediction is same\")\n",
        "else:\n",
        "    print(\"Expert's prediction is not same\")"
      ],
      "metadata": {
        "colab": {
          "base_uri": "https://localhost:8080/"
        },
        "id": "k3WMY63uATKD",
        "outputId": "3bceca70-6806-4d91-f365-47b594b4dd73"
      },
      "execution_count": 6,
      "outputs": [
        {
          "output_type": "stream",
          "name": "stdout",
          "text": [
            "            City  No_of_deaths_in_last_month  No_of_deaths_in_current_month\n",
            "0       New York                        3406                           4398\n",
            "1     New Jersey                        1469                           1846\n",
            "2       Michigan                         662                           1288\n",
            "3     California                         583                            382\n",
            "4        Florida                         582                            879\n",
            "5  Massachusetts                         526                            430\n",
            "6          Texas                         461                            321\n",
            "\n",
            "predicted by scientist= [4427.8, 1909.7, 860.6, 757.9, 756.6, 683.8, 599.3]\n",
            "actual current death value= [4398, 1846, 1288, 382, 879, 430, 321]\n",
            "difference between predicted and current= [ 29.8  63.7 427.4 375.9 122.4 253.8 278.3]\n",
            "signicance of 0.1= [340.6, 146.9, 66.2, 58.3, 58.2, 52.6, 46.1]\n",
            "\n",
            "Ttest_indResult(statistic=-0.08484138410174252, pvalue=0.933786528927488)\n",
            "\n",
            "Expert's prediction is not same\n"
          ]
        }
      ]
    },
    {
      "cell_type": "markdown",
      "source": [
        "**12 ANSWER:Expert's prediction is not same**"
      ],
      "metadata": {
        "id": "DTSCeMUy_HwI"
      }
    }
  ]
}